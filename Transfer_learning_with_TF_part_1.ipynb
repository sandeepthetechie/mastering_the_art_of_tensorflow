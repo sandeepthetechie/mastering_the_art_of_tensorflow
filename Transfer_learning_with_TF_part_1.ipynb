{
  "nbformat": 4,
  "nbformat_minor": 0,
  "metadata": {
    "colab": {
      "name": "Transfer_learning_with_TF_part_1.ipynb",
      "provenance": [],
      "collapsed_sections": [],
      "authorship_tag": "ABX9TyN1MkpKMdmEiBPeyKWB3z04",
      "include_colab_link": true
    },
    "kernelspec": {
      "name": "python3",
      "display_name": "Python 3"
    },
    "language_info": {
      "name": "python"
    }
  },
  "cells": [
    {
      "cell_type": "markdown",
      "metadata": {
        "id": "view-in-github",
        "colab_type": "text"
      },
      "source": [
        "<a href=\"https://colab.research.google.com/github/sandeepthetechie/mastering_the_art_of_tensorflow/blob/master/Transfer_learning_with_TF_part_1.ipynb\" target=\"_parent\"><img src=\"https://colab.research.google.com/assets/colab-badge.svg\" alt=\"Open In Colab\"/></a>"
      ]
    },
    {
      "cell_type": "markdown",
      "metadata": {
        "id": "BY3_l_7gyS-8"
      },
      "source": [
        "# Transfer learning. "
      ]
    },
    {
      "cell_type": "code",
      "metadata": {
        "id": "IBPtLwdK0GUp"
      },
      "source": [
        "# Downloading the data. \n",
        "import zipref\n",
        "\n",
        "!wget https://storage.googleapis.com/ztm_tf_course/food_vision/10_food_classes_10_percent.zip\n",
        "\n",
        "zip_ref = zipref.ZipFile(\"10_food_classes_10_percent.zip\")\n",
        "zip_ref.extractall()\n",
        "zip_ref.close()"
      ],
      "execution_count": null,
      "outputs": []
    },
    {
      "cell_type": "code",
      "metadata": {
        "id": "m_Ajlzqh0w5p"
      },
      "source": [
        "import os\n",
        "for dirpath, dirnames, filenames in os.walk(\"10_food_classes_10_percent\"):\n",
        "  print(f'There are {len(dirnames)} directories and {len(filenames)} files in {dirpath}')"
      ],
      "execution_count": null,
      "outputs": []
    },
    {
      "cell_type": "markdown",
      "metadata": {
        "id": "VTT2xbUV0w8Y"
      },
      "source": [
        "## Creating Data loaders"
      ]
    },
    {
      "cell_type": "code",
      "metadata": {
        "id": "AvDGCKXy0w_a"
      },
      "source": [
        "from tensorflow.keras.preprocessing.image import ImageDataGenerator\n",
        "\n",
        "IMAGE_SHAPE = (224,224)\n",
        "BATCH_SIZE = 32\n",
        "\n",
        "train_dir = \"10_food_classes_10_percent/train/\"\n",
        "test_dir = \"10_food_classes_10_percent/test/\"\n",
        "\n",
        "\n",
        "train_datagen = ImageDataGenerator(rescale = 1/255.)\n",
        "test_datagen = ImageDataGenerator(rescale = 1/255.)\n",
        "\n",
        "print(\"Training images: \")\n",
        "train_data_10_percent = train_datagen.flow_from_directory(train_dir, \n",
        "                                                          target_size = IMAGE_SHAPE, \n",
        "                                                          batch_size = BATCH_SIZE, \n",
        "                                                          class_mode = \"categorical\")\n",
        "\n",
        "print(\"Testing images: \")\n",
        "test_data = test_datagen.flow_from_directory(test_data, \n",
        "                                             target_size = IMAGE_SHAPE, \n",
        "                                             batch_size = 32, \n",
        "                                             class_mode =\"categorical\")\n"
      ],
      "execution_count": null,
      "outputs": []
    },
    {
      "cell_type": "markdown",
      "metadata": {
        "id": "B3ITCJ_E0xCf"
      },
      "source": [
        "# Setting up tensorboard call back. "
      ]
    },
    {
      "cell_type": "code",
      "metadata": {
        "id": "-K_2Ac1W0xFj"
      },
      "source": [
        "import datetime\n",
        "\n",
        "def create_tensorboard_callback(dir_name , experiment_name):\n",
        "  log_dir = dir_name + \"/\" + experiment_name + \"/\" + datetime.datetime.now().strftime(\"%Y%m%d%H%M%S\")\n",
        "  tensorboard_callback = tf.keras.callbacks.TensorBoard(log_dir = log_dir)\n",
        "  print(f'Saving Tensorflow logs to {log_dir}.')\n",
        "  return tensorboard_callback"
      ],
      "execution_count": null,
      "outputs": []
    },
    {
      "cell_type": "code",
      "metadata": {
        "id": "KeiKHeo30xI2"
      },
      "source": [
        "resnet_url = \"https://tfhub.dev/google/imagenet/resnet_v2_50/feature_vector/1\"\n",
        "efficientnet_url = \"https://tfhub.dev/google/efficientnet/b0/feature-vector/1\""
      ],
      "execution_count": null,
      "outputs": []
    },
    {
      "cell_type": "code",
      "metadata": {
        "id": "398yQPVcZ_Wt"
      },
      "source": [
        "import tensorflow as tf \n",
        "import tensorflow_hub as hub\n",
        "from tensorflow.keras import layers"
      ],
      "execution_count": null,
      "outputs": []
    },
    {
      "cell_type": "code",
      "metadata": {
        "id": "C5okx419Z_ZB"
      },
      "source": [
        "def create_model(model_url, num_classes = 10):\n",
        "  feature_extractor_layer = hub.KerasLayer(model_url, \n",
        "                                           trainable = False, \n",
        "                                           name = \"feature_extraction_layer\",\n",
        "                                           input_shape = IMAGE_SHAPE + (3,))\n",
        "  model = tf.keras.Sequential([\n",
        "    feature_extractor_layer, \n",
        "    layers.Dense(num_classes, activation = \"softmax\", name = \"output_layer\")\n",
        "  ])\n",
        "\n",
        "  return model\n",
        "  "
      ],
      "execution_count": null,
      "outputs": []
    },
    {
      "cell_type": "code",
      "metadata": {
        "id": "pYIdhIkyZ_b2"
      },
      "source": [
        "resnet_model = create_model(resnet_url, num_classes = train_data_10_percent.num_classes)"
      ],
      "execution_count": null,
      "outputs": []
    },
    {
      "cell_type": "code",
      "metadata": {
        "id": "RTDLjT1VZ_fE"
      },
      "source": [
        "resnet_model.summary()"
      ],
      "execution_count": null,
      "outputs": []
    },
    {
      "cell_type": "code",
      "metadata": {
        "id": "uUydK8sZc5fG"
      },
      "source": [
        "resnet_model.compile(loss = \"categorical_crossentropy\",\n",
        "                     optimizer = tf.keras.optimizers.Adam(), \n",
        "                     metrics = [\"accuracy\"])\n"
      ],
      "execution_count": null,
      "outputs": []
    },
    {
      "cell_type": "code",
      "metadata": {
        "id": "P72bw7mpc5h6"
      },
      "source": [
        "resnet_history = resnet_model.fit(train_data_10_percent, \n",
        "                                  epochs = 5, \n",
        "                                  steps_per_epoch = len(train_data_10_percent),\n",
        "                                  validation_data = test_data, \n",
        "                                  validation_steps = len(test_data),\n",
        "                                  callbacks = [create_tensorboard_callback(dir_name = \"tensorflow_hub\",\n",
        "                                               experiment_name = \"resnet50V2\")])"
      ],
      "execution_count": null,
      "outputs": []
    },
    {
      "cell_type": "markdown",
      "metadata": {
        "id": "zmLC7D00c5k5"
      },
      "source": [
        "# Plotting curves. "
      ]
    },
    {
      "cell_type": "code",
      "metadata": {
        "id": "fInynH9IZ_iW"
      },
      "source": [
        "from matplotlib import pyplot as plt\n",
        "\n",
        "def plot_loss_curve(history):\n",
        "  \"\"\"\n",
        "  Returns separate loss curve for training and validation metrics \n",
        "\n",
        "  Args: \n",
        "    history: Tensorflow History object\n",
        "  \n",
        "  Returns: \n",
        "    Plots of training/validation loss and accuracy metrics\n",
        "  \"\"\"\n",
        "  loss = history.history[\"loss\"]\n",
        "  val_loss = history.history[\"val_loss\"]\n",
        "\n",
        "  accuracy = history.history[\"accuracy\"]\n",
        "  val_accuracy = history.history[\"val_accuracy\"]\n",
        "\n",
        "  epochs = range(len(history.history[\"loss\"]))\n",
        "\n",
        "  # Plot\n",
        "  plt.plot(epochs, loss, label = \"training_loss\")\n",
        "  plt.plot(epochs, val_loss, label = \"val_loss\")\n",
        "  plt.title(\"Loss\")\n",
        "  plt.xlabel(\"Epochs\")\n",
        "  plt.legend\n",
        "\n",
        "  # Plot accuracy\n",
        "\n",
        "  plt.figure()\n",
        "  plt.plot(epochs, accuracy, label = \"training_accuracy\")\n",
        "  plt.plot(epochs, val_accuracy, label = \"val_accuracy\")\n",
        "  plt.title(\"Accuracy\")\n",
        "  plt.xlabel(\"Epochs\")\n",
        "  plt.legend();"
      ],
      "execution_count": null,
      "outputs": []
    },
    {
      "cell_type": "code",
      "metadata": {
        "id": "KUimy4SOZ_lc"
      },
      "source": [
        "plot_loss_curve(resnet_history)"
      ],
      "execution_count": null,
      "outputs": []
    },
    {
      "cell_type": "markdown",
      "metadata": {
        "id": "UZMb79Lmjj55"
      },
      "source": [
        "# Creating and testing efficientnet. "
      ]
    },
    {
      "cell_type": "code",
      "metadata": {
        "id": "_mEYt_5fjj8e"
      },
      "source": [
        "efficientnet_model = create_model(model_url = efficientnet_url, \n",
        "                                  num_classes = train_10_percent_data)\n",
        "\n",
        "efficientnet_model.compile(loss = \"categorical_crossentropy\",\n",
        "                           optimizer = tf.keras.optimizers.Adam(), \n",
        "                           metrics = [\"accuracy\"])\n",
        "\n",
        "efficientnet_history = efficientnet_model.fit(train_10_percent_data, \n",
        "                                              steps_per_epoch = len(train_10_percent_data),\n",
        "                                              validation_data = test_data, \n",
        "                                              validation_steps = len(test_data), \n",
        "                                              callbacks = [create_tensorboard_callback(dir_name = \"tensorflow_hub\",\n",
        "                                                                                       experiment_name = \"efficientnetb0\")])"
      ],
      "execution_count": null,
      "outputs": []
    },
    {
      "cell_type": "code",
      "metadata": {
        "id": "ZHEWHGHGjj_u"
      },
      "source": [
        "plot_loss_curve(efficientnet_history)"
      ],
      "execution_count": null,
      "outputs": []
    },
    {
      "cell_type": "code",
      "metadata": {
        "id": "LWA85q8SjkCK"
      },
      "source": [
        ""
      ],
      "execution_count": null,
      "outputs": []
    },
    {
      "cell_type": "code",
      "metadata": {
        "id": "flFHbHGtjkFp"
      },
      "source": [
        ""
      ],
      "execution_count": null,
      "outputs": []
    }
  ]
}