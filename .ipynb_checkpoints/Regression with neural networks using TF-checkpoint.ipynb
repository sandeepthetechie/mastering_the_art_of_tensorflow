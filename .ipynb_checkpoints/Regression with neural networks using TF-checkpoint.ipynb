{
 "cells": [
  {
   "cell_type": "markdown",
   "id": "c2847db3",
   "metadata": {},
   "source": [
    "# Regression Task "
   ]
  },
  {
   "cell_type": "code",
   "execution_count": 1,
   "id": "744c9fa8",
   "metadata": {},
   "outputs": [
    {
     "name": "stderr",
     "output_type": "stream",
     "text": [
      "2021-09-03 13:24:05.620318: W tensorflow/stream_executor/platform/default/dso_loader.cc:64] Could not load dynamic library 'libcudart.so.11.0'; dlerror: libcudart.so.11.0: cannot open shared object file: No such file or directory\n",
      "2021-09-03 13:24:05.620362: I tensorflow/stream_executor/cuda/cudart_stub.cc:29] Ignore above cudart dlerror if you do not have a GPU set up on your machine.\n"
     ]
    }
   ],
   "source": [
    "import tensorflow as tf\n",
    "import numpy as np\n",
    "import matplotlib.pyplot as plt\n"
   ]
  },
  {
   "cell_type": "code",
   "execution_count": 2,
   "id": "4606537f",
   "metadata": {},
   "outputs": [
    {
     "name": "stderr",
     "output_type": "stream",
     "text": [
      "2021-09-03 13:24:07.488684: W tensorflow/stream_executor/platform/default/dso_loader.cc:64] Could not load dynamic library 'libcuda.so.1'; dlerror: libcuda.so.1: cannot open shared object file: No such file or directory\n",
      "2021-09-03 13:24:07.488766: W tensorflow/stream_executor/cuda/cuda_driver.cc:269] failed call to cuInit: UNKNOWN ERROR (303)\n",
      "2021-09-03 13:24:07.488814: I tensorflow/stream_executor/cuda/cuda_diagnostics.cc:156] kernel driver does not appear to be running on this host (sandeep): /proc/driver/nvidia/version does not exist\n"
     ]
    },
    {
     "data": {
      "text/plain": [
       "(<tf.Tensor: shape=(3,), dtype=string, numpy=array([b'bedroom', b'bathroom', b'garage'], dtype=object)>,\n",
       " <tf.Tensor: shape=(1,), dtype=int32, numpy=array([939700], dtype=int32)>)"
      ]
     },
     "execution_count": 2,
     "metadata": {},
     "output_type": "execute_result"
    }
   ],
   "source": [
    "house_info = tf.constant([\"bedroom\", \"bathroom\", \"garage\"])\n",
    "house_price = tf.constant([939700])\n",
    "house_info, house_price"
   ]
  },
  {
   "cell_type": "code",
   "execution_count": 3,
   "id": "5d900a18",
   "metadata": {},
   "outputs": [
    {
     "data": {
      "text/plain": [
       "TensorShape([3])"
      ]
     },
     "execution_count": 3,
     "metadata": {},
     "output_type": "execute_result"
    }
   ],
   "source": [
    "\n",
    "house_info.shape"
   ]
  },
  {
   "cell_type": "code",
   "execution_count": 4,
   "id": "e1baac82",
   "metadata": {},
   "outputs": [
    {
     "data": {
      "image/png": "[encoded data removed]",
      "text/plain": [
       "<Figure size 432x288 with 1 Axes>"
      ]
     },
     "metadata": {
      "needs_background": "light"
     },
     "output_type": "display_data"
    }
   ],
   "source": [
    "# Create features (using tensors)\n",
    "X = tf.constant([-7.0, -4.0, -1.0, 2.0, 5.0, 8.0, 11.0, 14.0])\n",
    "\n",
    "# Create labels (using tensors)\n",
    "y = tf.constant([3.0, 6.0, 9.0, 12.0, 15.0, 18.0, 21.0, 24.0])\n",
    "\n",
    "# Visualize it\n",
    "plt.scatter(X, y);"
   ]
  },
  {
   "cell_type": "code",
   "execution_count": 5,
   "id": "f6ad5326",
   "metadata": {},
   "outputs": [
    {
     "data": {
      "text/plain": [
       "(TensorShape([]), TensorShape([]))"
      ]
     },
     "execution_count": 5,
     "metadata": {},
     "output_type": "execute_result"
    }
   ],
   "source": [
    "# Take a single example of X\n",
    "input_shape = X[0].shape \n",
    "\n",
    "# Take a single example of y\n",
    "output_shape = y[0].shape\n",
    "\n",
    "input_shape, output_shape # these are both scalars (no shape)"
   ]
  },
  {
   "cell_type": "code",
   "execution_count": 6,
   "id": "c884d6a2",
   "metadata": {},
   "outputs": [
    {
     "data": {
      "text/plain": [
       "(<tf.Tensor: shape=(), dtype=float32, numpy=-7.0>,\n",
       " <tf.Tensor: shape=(), dtype=float32, numpy=3.0>)"
      ]
     },
     "execution_count": 6,
     "metadata": {},
     "output_type": "execute_result"
    }
   ],
   "source": [
    "# Let's take a look at the single examples invidually\n",
    "X[0], y[0]"
   ]
  },
  {
   "cell_type": "code",
   "execution_count": 7,
   "id": "7910eb17",
   "metadata": {},
   "outputs": [
    {
     "data": {
      "text/plain": [
       "(<tf.Tensor: shape=(8,), dtype=float32, numpy=array([-7., -4., -1.,  2.,  5.,  8., 11., 14.], dtype=float32)>,\n",
       " <tf.Tensor: shape=(8,), dtype=float32, numpy=array([ 3.,  6.,  9., 12., 15., 18., 21., 24.], dtype=float32)>)"
      ]
     },
     "execution_count": 7,
     "metadata": {},
     "output_type": "execute_result"
    }
   ],
   "source": [
    "X = tf.cast(tf.constant(X),dtype= tf.float32)\n",
    "y = tf.cast(tf.constant(y),dtype= tf.float32)\n",
    "\n",
    "X,y"
   ]
  },
  {
   "cell_type": "markdown",
   "id": "c7ee1af2",
   "metadata": {},
   "source": [
    "# Modeling with TF "
   ]
  },
  {
   "cell_type": "code",
   "execution_count": 8,
   "id": "6e4c6a97",
   "metadata": {},
   "outputs": [
    {
     "name": "stderr",
     "output_type": "stream",
     "text": [
      "2021-09-03 13:24:08.761549: I tensorflow/compiler/mlir/mlir_graph_optimization_pass.cc:185] None of the MLIR Optimization Passes are enabled (registered 2)\n"
     ]
    },
    {
     "name": "stdout",
     "output_type": "stream",
     "text": [
      "Epoch 1/5\n",
      "1/1 [==============================] - 0s 380ms/step - loss: 11.5048 - mae: 11.5048\n",
      "Epoch 2/5\n",
      "1/1 [==============================] - 0s 4ms/step - loss: 11.3723 - mae: 11.3723\n",
      "Epoch 3/5\n",
      "1/1 [==============================] - 0s 5ms/step - loss: 11.2398 - mae: 11.2398\n",
      "Epoch 4/5\n",
      "1/1 [==============================] - 0s 3ms/step - loss: 11.1073 - mae: 11.1073\n",
      "Epoch 5/5\n",
      "1/1 [==============================] - 0s 4ms/step - loss: 10.9748 - mae: 10.9748\n"
     ]
    },
    {
     "data": {
      "text/plain": [
       "<keras.callbacks.History at 0x7f1fb2e13760>"
      ]
     },
     "execution_count": 8,
     "metadata": {},
     "output_type": "execute_result"
    }
   ],
   "source": [
    "tf.random.set_seed(42)\n",
    "\n",
    "model = tf.keras.Sequential([\n",
    "    tf.keras.layers.Dense(1)\n",
    "])\n",
    "\n",
    "model.compile(loss = tf.keras.losses.mae, \n",
    "             optimizer= tf.keras.optimizers.SGD(),\n",
    "             metrics=['mae'])\n",
    "\n",
    "model.fit(X, y,epochs=5)"
   ]
  },
  {
   "cell_type": "code",
   "execution_count": 9,
   "id": "9179e8a4",
   "metadata": {},
   "outputs": [
    {
     "data": {
      "text/plain": [
       "array([[12.716021]], dtype=float32)"
      ]
     },
     "execution_count": 9,
     "metadata": {},
     "output_type": "execute_result"
    }
   ],
   "source": [
    "model.predict([17.0])"
   ]
  },
  {
   "cell_type": "markdown",
   "id": "65bb32ee",
   "metadata": {},
   "source": [
    "# Improving the model. "
   ]
  },
  {
   "cell_type": "code",
   "execution_count": 10,
   "id": "6bad7fbd",
   "metadata": {},
   "outputs": [
    {
     "name": "stdout",
     "output_type": "stream",
     "text": [
      "Epoch 1/100\n",
      "1/1 [==============================] - 0s 311ms/step - loss: 11.5048 - mae: 11.5048\n",
      "Epoch 2/100\n",
      "1/1 [==============================] - 0s 4ms/step - loss: 11.3723 - mae: 11.3723\n",
      "Epoch 3/100\n",
      "1/1 [==============================] - 0s 9ms/step - loss: 11.2398 - mae: 11.2398\n",
      "Epoch 4/100\n",
      "1/1 [==============================] - 0s 4ms/step - loss: 11.1073 - mae: 11.1073\n",
      "Epoch 5/100\n",
      "1/1 [==============================] - 0s 8ms/step - loss: 10.9748 - mae: 10.9748\n",
      "Epoch 6/100\n",
      "1/1 [==============================] - 0s 3ms/step - loss: 10.8423 - mae: 10.8423\n",
      "Epoch 7/100\n",
      "1/1 [==============================] - 0s 7ms/step - loss: 10.7098 - mae: 10.7098\n",
      "Epoch 8/100\n",
      "1/1 [==============================] - 0s 4ms/step - loss: 10.5773 - mae: 10.5773\n",
      "Epoch 9/100\n",
      "1/1 [==============================] - 0s 3ms/step - loss: 10.4448 - mae: 10.4448\n",
      "Epoch 10/100\n",
      "1/1 [==============================] - 0s 8ms/step - loss: 10.3123 - mae: 10.3123\n",
      "Epoch 11/100\n",
      "1/1 [==============================] - 0s 3ms/step - loss: 10.1798 - mae: 10.1798\n",
      "Epoch 12/100\n",
      "1/1 [==============================] - 0s 7ms/step - loss: 10.0473 - mae: 10.0473\n",
      "Epoch 13/100\n",
      "1/1 [==============================] - 0s 4ms/step - loss: 9.9148 - mae: 9.9148\n",
      "Epoch 14/100\n",
      "1/1 [==============================] - 0s 6ms/step - loss: 9.7823 - mae: 9.7823\n",
      "Epoch 15/100\n",
      "1/1 [==============================] - 0s 4ms/step - loss: 9.6498 - mae: 9.6498\n",
      "Epoch 16/100\n",
      "1/1 [==============================] - 0s 4ms/step - loss: 9.5173 - mae: 9.5173\n",
      "Epoch 17/100\n",
      "1/1 [==============================] - 0s 6ms/step - loss: 9.3848 - mae: 9.3848\n",
      "Epoch 18/100\n",
      "1/1 [==============================] - 0s 6ms/step - loss: 9.2523 - mae: 9.2523\n",
      "Epoch 19/100\n",
      "1/1 [==============================] - 0s 8ms/step - loss: 9.1198 - mae: 9.1198\n",
      "Epoch 20/100\n",
      "1/1 [==============================] - 0s 6ms/step - loss: 8.9873 - mae: 8.9873\n",
      "Epoch 21/100\n",
      "1/1 [==============================] - 0s 7ms/step - loss: 8.8548 - mae: 8.8548\n",
      "Epoch 22/100\n",
      "1/1 [==============================] - 0s 3ms/step - loss: 8.7223 - mae: 8.7223\n",
      "Epoch 23/100\n",
      "1/1 [==============================] - 0s 5ms/step - loss: 8.5898 - mae: 8.5898\n",
      "Epoch 24/100\n",
      "1/1 [==============================] - 0s 8ms/step - loss: 8.4573 - mae: 8.4573\n",
      "Epoch 25/100\n",
      "1/1 [==============================] - 0s 6ms/step - loss: 8.3248 - mae: 8.3248\n",
      "Epoch 26/100\n",
      "1/1 [==============================] - 0s 5ms/step - loss: 8.1923 - mae: 8.1923\n",
      "Epoch 27/100\n",
      "1/1 [==============================] - 0s 12ms/step - loss: 8.0598 - mae: 8.0598\n",
      "Epoch 28/100\n",
      "1/1 [==============================] - 0s 4ms/step - loss: 7.9273 - mae: 7.9273\n",
      "Epoch 29/100\n",
      "1/1 [==============================] - 0s 6ms/step - loss: 7.7948 - mae: 7.7948\n",
      "Epoch 30/100\n",
      "1/1 [==============================] - 0s 7ms/step - loss: 7.6623 - mae: 7.6623\n",
      "Epoch 31/100\n",
      "1/1 [==============================] - 0s 5ms/step - loss: 7.5298 - mae: 7.5298\n",
      "Epoch 32/100\n",
      "1/1 [==============================] - 0s 6ms/step - loss: 7.3973 - mae: 7.3973\n",
      "Epoch 33/100\n",
      "1/1 [==============================] - 0s 4ms/step - loss: 7.2648 - mae: 7.2648\n",
      "Epoch 34/100\n",
      "1/1 [==============================] - 0s 6ms/step - loss: 7.2525 - mae: 7.2525\n",
      "Epoch 35/100\n",
      "1/1 [==============================] - 0s 4ms/step - loss: 7.2469 - mae: 7.2469\n",
      "Epoch 36/100\n",
      "1/1 [==============================] - 0s 11ms/step - loss: 7.2413 - mae: 7.2413\n",
      "Epoch 37/100\n",
      "1/1 [==============================] - 0s 7ms/step - loss: 7.2356 - mae: 7.2356\n",
      "Epoch 38/100\n",
      "1/1 [==============================] - 0s 5ms/step - loss: 7.2300 - mae: 7.2300\n",
      "Epoch 39/100\n",
      "1/1 [==============================] - 0s 7ms/step - loss: 7.2244 - mae: 7.2244\n",
      "Epoch 40/100\n",
      "1/1 [==============================] - 0s 6ms/step - loss: 7.2188 - mae: 7.2188\n",
      "Epoch 41/100\n",
      "1/1 [==============================] - 0s 4ms/step - loss: 7.2131 - mae: 7.2131\n",
      "Epoch 42/100\n",
      "1/1 [==============================] - 0s 5ms/step - loss: 7.2075 - mae: 7.2075\n",
      "Epoch 43/100\n",
      "1/1 [==============================] - 0s 3ms/step - loss: 7.2019 - mae: 7.2019\n",
      "Epoch 44/100\n",
      "1/1 [==============================] - 0s 7ms/step - loss: 7.1963 - mae: 7.1963\n",
      "Epoch 45/100\n",
      "1/1 [==============================] - 0s 5ms/step - loss: 7.1906 - mae: 7.1906\n",
      "Epoch 46/100\n",
      "1/1 [==============================] - 0s 5ms/step - loss: 7.1850 - mae: 7.1850\n",
      "Epoch 47/100\n",
      "1/1 [==============================] - 0s 4ms/step - loss: 7.1794 - mae: 7.1794\n",
      "Epoch 48/100\n",
      "1/1 [==============================] - 0s 7ms/step - loss: 7.1738 - mae: 7.1738\n",
      "Epoch 49/100\n",
      "1/1 [==============================] - 0s 9ms/step - loss: 7.1681 - mae: 7.1681\n",
      "Epoch 50/100\n",
      "1/1 [==============================] - 0s 11ms/step - loss: 7.1625 - mae: 7.1625\n",
      "Epoch 51/100\n",
      "1/1 [==============================] - 0s 4ms/step - loss: 7.1569 - mae: 7.1569\n",
      "Epoch 52/100\n",
      "1/1 [==============================] - 0s 7ms/step - loss: 7.1512 - mae: 7.1512\n",
      "Epoch 53/100\n",
      "1/1 [==============================] - 0s 13ms/step - loss: 7.1456 - mae: 7.1456\n",
      "Epoch 54/100\n",
      "1/1 [==============================] - 0s 6ms/step - loss: 7.1400 - mae: 7.1400\n",
      "Epoch 55/100\n",
      "1/1 [==============================] - 0s 6ms/step - loss: 7.1344 - mae: 7.1344\n",
      "Epoch 56/100\n",
      "1/1 [==============================] - 0s 6ms/step - loss: 7.1287 - mae: 7.1287\n",
      "Epoch 57/100\n",
      "1/1 [==============================] - 0s 8ms/step - loss: 7.1231 - mae: 7.1231\n",
      "Epoch 58/100\n",
      "1/1 [==============================] - 0s 4ms/step - loss: 7.1175 - mae: 7.1175\n",
      "Epoch 59/100\n",
      "1/1 [==============================] - 0s 4ms/step - loss: 7.1119 - mae: 7.1119\n",
      "Epoch 60/100\n",
      "1/1 [==============================] - 0s 7ms/step - loss: 7.1063 - mae: 7.1063\n",
      "Epoch 61/100\n",
      "1/1 [==============================] - 0s 6ms/step - loss: 7.1006 - mae: 7.1006\n",
      "Epoch 62/100\n",
      "1/1 [==============================] - 0s 6ms/step - loss: 7.0950 - mae: 7.0950\n",
      "Epoch 63/100\n",
      "1/1 [==============================] - 0s 6ms/step - loss: 7.0894 - mae: 7.0894\n",
      "Epoch 64/100\n",
      "1/1 [==============================] - 0s 4ms/step - loss: 7.0838 - mae: 7.0838\n",
      "Epoch 65/100\n",
      "1/1 [==============================] - 0s 7ms/step - loss: 7.0781 - mae: 7.0781\n",
      "Epoch 66/100\n",
      "1/1 [==============================] - 0s 5ms/step - loss: 7.0725 - mae: 7.0725\n",
      "Epoch 67/100\n",
      "1/1 [==============================] - 0s 5ms/step - loss: 7.0669 - mae: 7.0669\n",
      "Epoch 68/100\n",
      "1/1 [==============================] - 0s 4ms/step - loss: 7.0613 - mae: 7.0613\n",
      "Epoch 69/100\n",
      "1/1 [==============================] - 0s 15ms/step - loss: 7.0556 - mae: 7.0556\n",
      "Epoch 70/100\n",
      "1/1 [==============================] - 0s 7ms/step - loss: 7.0500 - mae: 7.0500\n",
      "Epoch 71/100\n",
      "1/1 [==============================] - 0s 5ms/step - loss: 7.0444 - mae: 7.0444\n",
      "Epoch 72/100\n",
      "1/1 [==============================] - 0s 5ms/step - loss: 7.0388 - mae: 7.0388\n",
      "Epoch 73/100\n",
      "1/1 [==============================] - 0s 5ms/step - loss: 7.0331 - mae: 7.0331\n",
      "Epoch 74/100\n",
      "1/1 [==============================] - 0s 5ms/step - loss: 7.0275 - mae: 7.0275\n",
      "Epoch 75/100\n",
      "1/1 [==============================] - 0s 5ms/step - loss: 7.0219 - mae: 7.0219\n",
      "Epoch 76/100\n",
      "1/1 [==============================] - 0s 5ms/step - loss: 7.0163 - mae: 7.0163\n",
      "Epoch 77/100\n",
      "1/1 [==============================] - 0s 4ms/step - loss: 7.0106 - mae: 7.0106\n",
      "Epoch 78/100\n",
      "1/1 [==============================] - 0s 6ms/step - loss: 7.0050 - mae: 7.0050\n",
      "Epoch 79/100\n",
      "1/1 [==============================] - 0s 5ms/step - loss: 6.9994 - mae: 6.9994\n",
      "Epoch 80/100\n",
      "1/1 [==============================] - 0s 6ms/step - loss: 6.9938 - mae: 6.9938\n",
      "Epoch 81/100\n",
      "1/1 [==============================] - 0s 3ms/step - loss: 6.9881 - mae: 6.9881\n",
      "Epoch 82/100\n",
      "1/1 [==============================] - 0s 4ms/step - loss: 6.9825 - mae: 6.9825\n",
      "Epoch 83/100\n",
      "1/1 [==============================] - 0s 5ms/step - loss: 6.9769 - mae: 6.9769\n",
      "Epoch 84/100\n",
      "1/1 [==============================] - 0s 5ms/step - loss: 6.9713 - mae: 6.9713\n",
      "Epoch 85/100\n",
      "1/1 [==============================] - 0s 6ms/step - loss: 6.9656 - mae: 6.9656\n",
      "Epoch 86/100\n",
      "1/1 [==============================] - 0s 4ms/step - loss: 6.9600 - mae: 6.9600\n",
      "Epoch 87/100\n",
      "1/1 [==============================] - 0s 6ms/step - loss: 6.9544 - mae: 6.9544\n",
      "Epoch 88/100\n"
     ]
    },
    {
     "name": "stdout",
     "output_type": "stream",
     "text": [
      "1/1 [==============================] - 0s 6ms/step - loss: 6.9488 - mae: 6.9488\n",
      "Epoch 89/100\n",
      "1/1 [==============================] - 0s 5ms/step - loss: 6.9431 - mae: 6.9431\n",
      "Epoch 90/100\n",
      "1/1 [==============================] - 0s 3ms/step - loss: 6.9375 - mae: 6.9375\n",
      "Epoch 91/100\n",
      "1/1 [==============================] - 0s 8ms/step - loss: 6.9319 - mae: 6.9319\n",
      "Epoch 92/100\n",
      "1/1 [==============================] - 0s 5ms/step - loss: 6.9263 - mae: 6.9263\n",
      "Epoch 93/100\n",
      "1/1 [==============================] - 0s 7ms/step - loss: 6.9206 - mae: 6.9206\n",
      "Epoch 94/100\n",
      "1/1 [==============================] - 0s 4ms/step - loss: 6.9150 - mae: 6.9150\n",
      "Epoch 95/100\n",
      "1/1 [==============================] - 0s 6ms/step - loss: 6.9094 - mae: 6.9094\n",
      "Epoch 96/100\n",
      "1/1 [==============================] - 0s 5ms/step - loss: 6.9038 - mae: 6.9038\n",
      "Epoch 97/100\n",
      "1/1 [==============================] - 0s 4ms/step - loss: 6.8981 - mae: 6.8981\n",
      "Epoch 98/100\n",
      "1/1 [==============================] - 0s 6ms/step - loss: 6.8925 - mae: 6.8925\n",
      "Epoch 99/100\n",
      "1/1 [==============================] - 0s 3ms/step - loss: 6.8869 - mae: 6.8869\n",
      "Epoch 100/100\n",
      "1/1 [==============================] - 0s 5ms/step - loss: 6.8813 - mae: 6.8813\n"
     ]
    },
    {
     "data": {
      "text/plain": [
       "<keras.callbacks.History at 0x7f1fb037a580>"
      ]
     },
     "execution_count": 10,
     "metadata": {},
     "output_type": "execute_result"
    }
   ],
   "source": [
    "# trial 1\n",
    "tf.random.set_seed(42)\n",
    "\n",
    "model = tf.keras.Sequential([\n",
    "    tf.keras.layers.Dense(1)\n",
    "])\n",
    "\n",
    "model.compile(loss= tf.losses.mae,\n",
    "             optimizer = tf.keras.optimizers.SGD(),\n",
    "             metrics=[\"mae\"])\n",
    "model.fit(X,y, epochs=100)"
   ]
  },
  {
   "cell_type": "code",
   "execution_count": 11,
   "id": "7cc75fe5",
   "metadata": {},
   "outputs": [
    {
     "data": {
      "text/plain": [
       "array([[30.158512]], dtype=float32)"
      ]
     },
     "execution_count": 11,
     "metadata": {},
     "output_type": "execute_result"
    }
   ],
   "source": [
    "model.predict([17.0])"
   ]
  },
  {
   "cell_type": "code",
   "execution_count": 12,
   "id": "a0f729ba",
   "metadata": {},
   "outputs": [
    {
     "name": "stdout",
     "output_type": "stream",
     "text": [
      "Epoch 1/100\n",
      "1/1 [==============================] - 0s 469ms/step - loss: 13.3925 - mae: 13.3925\n",
      "Epoch 2/100\n",
      "1/1 [==============================] - 0s 7ms/step - loss: 10.5473 - mae: 10.5473\n",
      "Epoch 3/100\n",
      "1/1 [==============================] - 0s 7ms/step - loss: 8.6333 - mae: 8.6333\n",
      "Epoch 4/100\n",
      "1/1 [==============================] - 0s 9ms/step - loss: 6.5549 - mae: 6.5549\n",
      "Epoch 5/100\n",
      "1/1 [==============================] - 0s 7ms/step - loss: 4.1624 - mae: 4.1624\n",
      "Epoch 6/100\n",
      "1/1 [==============================] - 0s 4ms/step - loss: 4.3911 - mae: 4.3911\n",
      "Epoch 7/100\n",
      "1/1 [==============================] - 0s 7ms/step - loss: 5.1939 - mae: 5.1939\n",
      "Epoch 8/100\n",
      "1/1 [==============================] - 0s 5ms/step - loss: 5.3084 - mae: 5.3084\n",
      "Epoch 9/100\n",
      "1/1 [==============================] - 0s 5ms/step - loss: 4.9715 - mae: 4.9715\n",
      "Epoch 10/100\n",
      "1/1 [==============================] - 0s 10ms/step - loss: 4.3370 - mae: 4.3370\n",
      "Epoch 11/100\n",
      "1/1 [==============================] - 0s 7ms/step - loss: 3.9085 - mae: 3.9085\n",
      "Epoch 12/100\n",
      "1/1 [==============================] - 0s 5ms/step - loss: 3.6810 - mae: 3.6810\n",
      "Epoch 13/100\n",
      "1/1 [==============================] - 0s 6ms/step - loss: 3.9440 - mae: 3.9440\n",
      "Epoch 14/100\n",
      "1/1 [==============================] - 0s 7ms/step - loss: 4.0090 - mae: 4.0090\n",
      "Epoch 15/100\n",
      "1/1 [==============================] - 0s 8ms/step - loss: 3.7129 - mae: 3.7129\n",
      "Epoch 16/100\n",
      "1/1 [==============================] - 0s 4ms/step - loss: 3.4889 - mae: 3.4889\n",
      "Epoch 17/100\n",
      "1/1 [==============================] - 0s 9ms/step - loss: 3.5315 - mae: 3.5315\n",
      "Epoch 18/100\n",
      "1/1 [==============================] - 0s 7ms/step - loss: 3.5791 - mae: 3.5791\n",
      "Epoch 19/100\n",
      "1/1 [==============================] - 0s 5ms/step - loss: 3.6319 - mae: 3.6319\n",
      "Epoch 20/100\n",
      "1/1 [==============================] - 0s 8ms/step - loss: 3.4998 - mae: 3.4998\n",
      "Epoch 21/100\n",
      "1/1 [==============================] - 0s 5ms/step - loss: 3.2525 - mae: 3.2525\n",
      "Epoch 22/100\n",
      "1/1 [==============================] - 0s 5ms/step - loss: 3.0367 - mae: 3.0367\n",
      "Epoch 23/100\n",
      "1/1 [==============================] - 0s 5ms/step - loss: 2.8001 - mae: 2.8001\n",
      "Epoch 24/100\n",
      "1/1 [==============================] - 0s 7ms/step - loss: 2.7762 - mae: 2.7762\n",
      "Epoch 25/100\n",
      "1/1 [==============================] - 0s 5ms/step - loss: 2.6347 - mae: 2.6347\n",
      "Epoch 26/100\n",
      "1/1 [==============================] - 0s 10ms/step - loss: 2.3359 - mae: 2.3359\n",
      "Epoch 27/100\n",
      "1/1 [==============================] - 0s 6ms/step - loss: 2.1096 - mae: 2.1096\n",
      "Epoch 28/100\n",
      "1/1 [==============================] - 0s 7ms/step - loss: 2.0459 - mae: 2.0459\n",
      "Epoch 29/100\n",
      "1/1 [==============================] - 0s 8ms/step - loss: 1.7133 - mae: 1.7133\n",
      "Epoch 30/100\n",
      "1/1 [==============================] - 0s 5ms/step - loss: 1.2715 - mae: 1.2715\n",
      "Epoch 31/100\n",
      "1/1 [==============================] - 0s 6ms/step - loss: 1.4804 - mae: 1.4804\n",
      "Epoch 32/100\n",
      "1/1 [==============================] - 0s 12ms/step - loss: 0.8658 - mae: 0.8658\n",
      "Epoch 33/100\n",
      "1/1 [==============================] - 0s 5ms/step - loss: 0.8545 - mae: 0.8545\n",
      "Epoch 34/100\n",
      "1/1 [==============================] - 0s 7ms/step - loss: 1.1276 - mae: 1.1276\n",
      "Epoch 35/100\n",
      "1/1 [==============================] - 0s 5ms/step - loss: 0.6330 - mae: 0.6330\n",
      "Epoch 36/100\n",
      "1/1 [==============================] - 0s 9ms/step - loss: 1.3774 - mae: 1.3774\n",
      "Epoch 37/100\n",
      "1/1 [==============================] - 0s 6ms/step - loss: 1.6234 - mae: 1.6234\n",
      "Epoch 38/100\n",
      "1/1 [==============================] - 0s 12ms/step - loss: 1.6213 - mae: 1.6213\n",
      "Epoch 39/100\n",
      "1/1 [==============================] - 0s 7ms/step - loss: 0.9907 - mae: 0.9907\n",
      "Epoch 40/100\n",
      "1/1 [==============================] - 0s 6ms/step - loss: 0.7822 - mae: 0.7822\n",
      "Epoch 41/100\n",
      "1/1 [==============================] - 0s 7ms/step - loss: 1.1940 - mae: 1.1940\n",
      "Epoch 42/100\n",
      "1/1 [==============================] - 0s 8ms/step - loss: 0.7952 - mae: 0.7952\n",
      "Epoch 43/100\n",
      "1/1 [==============================] - 0s 8ms/step - loss: 0.5293 - mae: 0.5293\n",
      "Epoch 44/100\n",
      "1/1 [==============================] - 0s 7ms/step - loss: 0.9580 - mae: 0.9580\n",
      "Epoch 45/100\n",
      "1/1 [==============================] - 0s 12ms/step - loss: 0.7484 - mae: 0.7484\n",
      "Epoch 46/100\n",
      "1/1 [==============================] - 0s 14ms/step - loss: 0.6876 - mae: 0.6876\n",
      "Epoch 47/100\n",
      "1/1 [==============================] - 0s 12ms/step - loss: 0.8283 - mae: 0.8283\n",
      "Epoch 48/100\n",
      "1/1 [==============================] - 0s 12ms/step - loss: 0.4657 - mae: 0.4657\n",
      "Epoch 49/100\n",
      "1/1 [==============================] - 0s 6ms/step - loss: 0.4999 - mae: 0.4999\n",
      "Epoch 50/100\n",
      "1/1 [==============================] - 0s 5ms/step - loss: 0.7487 - mae: 0.7487\n",
      "Epoch 51/100\n",
      "1/1 [==============================] - 0s 7ms/step - loss: 0.4757 - mae: 0.4757\n",
      "Epoch 52/100\n",
      "1/1 [==============================] - 0s 5ms/step - loss: 0.4008 - mae: 0.4008\n",
      "Epoch 53/100\n",
      "1/1 [==============================] - 0s 8ms/step - loss: 0.6783 - mae: 0.6783\n",
      "Epoch 54/100\n",
      "1/1 [==============================] - 0s 4ms/step - loss: 0.3301 - mae: 0.3301\n",
      "Epoch 55/100\n",
      "1/1 [==============================] - 0s 9ms/step - loss: 0.5817 - mae: 0.5817\n",
      "Epoch 56/100\n",
      "1/1 [==============================] - 0s 4ms/step - loss: 0.8421 - mae: 0.8421\n",
      "Epoch 57/100\n",
      "1/1 [==============================] - 0s 8ms/step - loss: 0.5778 - mae: 0.5778\n",
      "Epoch 58/100\n",
      "1/1 [==============================] - 0s 5ms/step - loss: 0.3563 - mae: 0.3563\n",
      "Epoch 59/100\n",
      "1/1 [==============================] - 0s 5ms/step - loss: 0.5269 - mae: 0.5269\n",
      "Epoch 60/100\n",
      "1/1 [==============================] - 0s 8ms/step - loss: 0.4272 - mae: 0.4272\n",
      "Epoch 61/100\n",
      "1/1 [==============================] - 0s 5ms/step - loss: 0.5878 - mae: 0.5878\n",
      "Epoch 62/100\n",
      "1/1 [==============================] - 0s 5ms/step - loss: 0.3096 - mae: 0.3096\n",
      "Epoch 63/100\n",
      "1/1 [==============================] - 0s 8ms/step - loss: 0.5387 - mae: 0.5387\n",
      "Epoch 64/100\n",
      "1/1 [==============================] - 0s 5ms/step - loss: 0.6816 - mae: 0.6816\n",
      "Epoch 65/100\n",
      "1/1 [==============================] - 0s 8ms/step - loss: 0.3633 - mae: 0.3633\n",
      "Epoch 66/100\n",
      "1/1 [==============================] - 0s 6ms/step - loss: 0.4334 - mae: 0.4334\n",
      "Epoch 67/100\n",
      "1/1 [==============================] - 0s 6ms/step - loss: 0.3199 - mae: 0.3199\n",
      "Epoch 68/100\n",
      "1/1 [==============================] - 0s 5ms/step - loss: 0.5914 - mae: 0.5914\n",
      "Epoch 69/100\n",
      "1/1 [==============================] - 0s 5ms/step - loss: 0.6533 - mae: 0.6533\n",
      "Epoch 70/100\n",
      "1/1 [==============================] - 0s 5ms/step - loss: 0.1828 - mae: 0.1828\n",
      "Epoch 71/100\n",
      "1/1 [==============================] - 0s 4ms/step - loss: 0.6336 - mae: 0.6336\n",
      "Epoch 72/100\n",
      "1/1 [==============================] - 0s 7ms/step - loss: 0.8594 - mae: 0.8594\n",
      "Epoch 73/100\n",
      "1/1 [==============================] - 0s 5ms/step - loss: 0.5859 - mae: 0.5859\n",
      "Epoch 74/100\n",
      "1/1 [==============================] - 0s 7ms/step - loss: 0.3015 - mae: 0.3015\n",
      "Epoch 75/100\n",
      "1/1 [==============================] - 0s 6ms/step - loss: 0.4457 - mae: 0.4457\n",
      "Epoch 76/100\n",
      "1/1 [==============================] - 0s 6ms/step - loss: 0.3120 - mae: 0.3120\n",
      "Epoch 77/100\n",
      "1/1 [==============================] - 0s 8ms/step - loss: 0.4690 - mae: 0.4690\n",
      "Epoch 78/100\n",
      "1/1 [==============================] - 0s 6ms/step - loss: 0.1914 - mae: 0.1914\n",
      "Epoch 79/100\n",
      "1/1 [==============================] - 0s 5ms/step - loss: 0.5596 - mae: 0.5596\n",
      "Epoch 80/100\n",
      "1/1 [==============================] - 0s 5ms/step - loss: 0.6564 - mae: 0.6564\n",
      "Epoch 81/100\n",
      "1/1 [==============================] - 0s 6ms/step - loss: 0.1960 - mae: 0.1960\n",
      "Epoch 82/100\n",
      "1/1 [==============================] - 0s 10ms/step - loss: 0.7367 - mae: 0.7367\n",
      "Epoch 83/100\n",
      "1/1 [==============================] - 0s 5ms/step - loss: 1.0165 - mae: 1.0165\n",
      "Epoch 84/100\n",
      "1/1 [==============================] - 0s 4ms/step - loss: 0.8211 - mae: 0.8211\n",
      "Epoch 85/100\n",
      "1/1 [==============================] - 0s 6ms/step - loss: 0.2942 - mae: 0.2942\n",
      "Epoch 86/100\n",
      "1/1 [==============================] - 0s 4ms/step - loss: 0.7236 - mae: 0.7236\n",
      "Epoch 87/100\n",
      "1/1 [==============================] - 0s 6ms/step - loss: 1.0451 - mae: 1.0451\n",
      "Epoch 88/100\n",
      "1/1 [==============================] - 0s 6ms/step - loss: 0.8408 - mae: 0.8408\n",
      "Epoch 89/100\n"
     ]
    },
    {
     "name": "stdout",
     "output_type": "stream",
     "text": [
      "1/1 [==============================] - 0s 6ms/step - loss: 0.1768 - mae: 0.1768\n",
      "Epoch 90/100\n",
      "1/1 [==============================] - 0s 5ms/step - loss: 0.6313 - mae: 0.6313\n",
      "Epoch 91/100\n",
      "1/1 [==============================] - 0s 9ms/step - loss: 0.8606 - mae: 0.8606\n",
      "Epoch 92/100\n",
      "1/1 [==============================] - 0s 3ms/step - loss: 0.6278 - mae: 0.6278\n",
      "Epoch 93/100\n",
      "1/1 [==============================] - 0s 10ms/step - loss: 0.1965 - mae: 0.1965\n",
      "Epoch 94/100\n",
      "1/1 [==============================] - 0s 7ms/step - loss: 0.5692 - mae: 0.5692\n",
      "Epoch 95/100\n",
      "1/1 [==============================] - 0s 5ms/step - loss: 0.5449 - mae: 0.5449\n",
      "Epoch 96/100\n",
      "1/1 [==============================] - 0s 5ms/step - loss: 0.2385 - mae: 0.2385\n",
      "Epoch 97/100\n",
      "1/1 [==============================] - 0s 5ms/step - loss: 0.3127 - mae: 0.3127\n",
      "Epoch 98/100\n",
      "1/1 [==============================] - 0s 6ms/step - loss: 0.1572 - mae: 0.1572\n",
      "Epoch 99/100\n",
      "1/1 [==============================] - 0s 4ms/step - loss: 0.2958 - mae: 0.2958\n",
      "Epoch 100/100\n",
      "1/1 [==============================] - 0s 5ms/step - loss: 0.0654 - mae: 0.0654\n"
     ]
    },
    {
     "data": {
      "text/plain": [
       "<keras.callbacks.History at 0x7f1fb038de20>"
      ]
     },
     "execution_count": 12,
     "metadata": {},
     "output_type": "execute_result"
    }
   ],
   "source": [
    "# trail 2 \n",
    "tf.random.set_seed(42)\n",
    "\n",
    "model = tf.keras.Sequential([\n",
    "    tf.keras.layers.Dense(100, activation = 'relu'),\n",
    "    tf.keras.layers.Dense(100, activation = 'relu'),\n",
    "    tf.keras.layers.Dense(1)\n",
    "])\n",
    "\n",
    "model.compile(loss= tf.losses.mae,\n",
    "             optimizer = tf.keras.optimizers.Adam(learning_rate=0.01),\n",
    "             metrics=[\"mae\"])\n",
    "model.fit(X,y, epochs=100)"
   ]
  },
  {
   "cell_type": "code",
   "execution_count": 13,
   "id": "555f4228",
   "metadata": {},
   "outputs": [
    {
     "data": {
      "text/plain": [
       "array([[26.773136]], dtype=float32)"
      ]
     },
     "execution_count": 13,
     "metadata": {},
     "output_type": "execute_result"
    }
   ],
   "source": [
    "model.predict([17.0]) # this is by far the best result that we got. "
   ]
  },
  {
   "cell_type": "markdown",
   "id": "6552ee90",
   "metadata": {},
   "source": [
    "# Evaluate the model "
   ]
  },
  {
   "cell_type": "code",
   "execution_count": 14,
   "id": "5f2c8a4a",
   "metadata": {},
   "outputs": [
    {
     "data": {
      "text/plain": [
       "<tf.Tensor: shape=(50,), dtype=int32, numpy=\n",
       "array([-100,  -96,  -92,  -88,  -84,  -80,  -76,  -72,  -68,  -64,  -60,\n",
       "        -56,  -52,  -48,  -44,  -40,  -36,  -32,  -28,  -24,  -20,  -16,\n",
       "        -12,   -8,   -4,    0,    4,    8,   12,   16,   20,   24,   28,\n",
       "         32,   36,   40,   44,   48,   52,   56,   60,   64,   68,   72,\n",
       "         76,   80,   84,   88,   92,   96], dtype=int32)>"
      ]
     },
     "execution_count": 14,
     "metadata": {},
     "output_type": "execute_result"
    }
   ],
   "source": [
    "X = tf.range(-100, 100, 4)\n",
    "X"
   ]
  },
  {
   "cell_type": "code",
   "execution_count": 15,
   "id": "b266a2a4",
   "metadata": {},
   "outputs": [
    {
     "data": {
      "text/plain": [
       "<tf.Tensor: shape=(50,), dtype=int32, numpy=\n",
       "array([-90, -86, -82, -78, -74, -70, -66, -62, -58, -54, -50, -46, -42,\n",
       "       -38, -34, -30, -26, -22, -18, -14, -10,  -6,  -2,   2,   6,  10,\n",
       "        14,  18,  22,  26,  30,  34,  38,  42,  46,  50,  54,  58,  62,\n",
       "        66,  70,  74,  78,  82,  86,  90,  94,  98, 102, 106], dtype=int32)>"
      ]
     },
     "execution_count": 15,
     "metadata": {},
     "output_type": "execute_result"
    }
   ],
   "source": [
    "y = X + 10\n",
    "y"
   ]
  },
  {
   "cell_type": "code",
   "execution_count": 16,
   "id": "45cf560b",
   "metadata": {},
   "outputs": [
    {
     "data": {
      "image/png": "[encoded data removed]",
      "text/plain": [
       "<Figure size 432x288 with 1 Axes>"
      ]
     },
     "metadata": {
      "needs_background": "light"
     },
     "output_type": "display_data"
    }
   ],
   "source": [
    "import matplotlib.pyplot as plt\n",
    "\n",
    "plt.scatter(X, y);"
   ]
  },
  {
   "cell_type": "code",
   "execution_count": 17,
   "id": "931e3a7c",
   "metadata": {},
   "outputs": [
    {
     "data": {
      "text/plain": [
       "50"
      ]
     },
     "execution_count": 17,
     "metadata": {},
     "output_type": "execute_result"
    }
   ],
   "source": [
    "len(X)"
   ]
  },
  {
   "cell_type": "code",
   "execution_count": 18,
   "id": "3c3e0ca0",
   "metadata": {},
   "outputs": [
    {
     "data": {
      "text/plain": [
       "(40, 10, 40, 10)"
      ]
     },
     "execution_count": 18,
     "metadata": {},
     "output_type": "execute_result"
    }
   ],
   "source": [
    "X_train = X[:40]\n",
    "X_test = X[40:]\n",
    "\n",
    "y_train = y[:40]\n",
    "y_test = y[40:]\n",
    "\n",
    "len(X_train), len(X_test), len(y_train), len(y_test)"
   ]
  },
  {
   "cell_type": "code",
   "execution_count": 19,
   "id": "74885c4c",
   "metadata": {},
   "outputs": [
    {
     "data": {
      "image/png": "[encoded data removed]",
      "text/plain": [
       "<Figure size 720x504 with 1 Axes>"
      ]
     },
     "metadata": {
      "needs_background": "light"
     },
     "output_type": "display_data"
    }
   ],
   "source": [
    "plt.figure(figsize=(10,7))\n",
    "\n",
    "plt.scatter(X_train, y_train, c = 'b', label = 'Training Data')\n",
    "plt.scatter(X_test, y_test, c='g', label= 'Testing Data')\n",
    "\n",
    "plt.legend();"
   ]
  },
  {
   "cell_type": "code",
   "execution_count": 20,
   "id": "047614e4",
   "metadata": {},
   "outputs": [],
   "source": [
    "model = tf.keras.Sequential([\n",
    "    tf.keras.layers.Dense(1, input_shape=[1])\n",
    "])\n",
    "\n",
    "model.compile(loss = tf.keras.losses.mae,\n",
    "              optimizer = tf.keras.optimizers.SGD(),\n",
    "             metrics= [\"mae\"])\n",
    "\n",
    "# model.fit(X_train, y_train, epochs=100)"
   ]
  },
  {
   "cell_type": "code",
   "execution_count": 21,
   "id": "6adb3c7d",
   "metadata": {},
   "outputs": [
    {
     "name": "stdout",
     "output_type": "stream",
     "text": [
      "Model: \"sequential_3\"\n",
      "_________________________________________________________________\n",
      "Layer (type)                 Output Shape              Param #   \n",
      "=================================================================\n",
      "dense_5 (Dense)              (None, 1)                 2         \n",
      "=================================================================\n",
      "Total params: 2\n",
      "Trainable params: 2\n",
      "Non-trainable params: 0\n",
      "_________________________________________________________________\n"
     ]
    }
   ],
   "source": [
    "model.summary()"
   ]
  },
  {
   "cell_type": "code",
   "execution_count": 22,
   "id": "6260cd75",
   "metadata": {},
   "outputs": [
    {
     "name": "stdout",
     "output_type": "stream",
     "text": [
      "Epoch 1/100\n",
      "2/2 [==============================] - 0s 6ms/step - loss: 8.8160 - mae: 8.8160\n",
      "Epoch 2/100\n",
      "2/2 [==============================] - 0s 4ms/step - loss: 9.4374 - mae: 9.4374\n",
      "Epoch 3/100\n",
      "2/2 [==============================] - 0s 3ms/step - loss: 11.9512 - mae: 11.9512\n",
      "Epoch 4/100\n",
      "2/2 [==============================] - 0s 5ms/step - loss: 9.1800 - mae: 9.1800\n",
      "Epoch 5/100\n",
      "2/2 [==============================] - 0s 9ms/step - loss: 10.0313 - mae: 10.0313\n",
      "Epoch 6/100\n",
      "2/2 [==============================] - 0s 6ms/step - loss: 9.3097 - mae: 9.3097\n",
      "Epoch 7/100\n",
      "2/2 [==============================] - 0s 3ms/step - loss: 8.4690 - mae: 8.4690\n",
      "Epoch 8/100\n",
      "2/2 [==============================] - 0s 6ms/step - loss: 9.0316 - mae: 9.0316\n",
      "Epoch 9/100\n",
      "2/2 [==============================] - 0s 6ms/step - loss: 18.5057 - mae: 18.5057\n",
      "Epoch 10/100\n",
      "2/2 [==============================] - 0s 3ms/step - loss: 9.9744 - mae: 9.9744\n",
      "Epoch 11/100\n",
      "2/2 [==============================] - 0s 3ms/step - loss: 8.3410 - mae: 8.3410\n",
      "Epoch 12/100\n",
      "2/2 [==============================] - 0s 4ms/step - loss: 10.5511 - mae: 10.5511\n",
      "Epoch 13/100\n",
      "2/2 [==============================] - 0s 3ms/step - loss: 9.7502 - mae: 9.7502\n",
      "Epoch 14/100\n",
      "2/2 [==============================] - 0s 6ms/step - loss: 15.7488 - mae: 15.7488\n",
      "Epoch 15/100\n",
      "2/2 [==============================] - 0s 4ms/step - loss: 11.6066 - mae: 11.6066\n",
      "Epoch 16/100\n",
      "2/2 [==============================] - 0s 8ms/step - loss: 8.4748 - mae: 8.4748\n",
      "Epoch 17/100\n",
      "2/2 [==============================] - 0s 3ms/step - loss: 13.4902 - mae: 13.4902\n",
      "Epoch 18/100\n",
      "2/2 [==============================] - 0s 4ms/step - loss: 11.2834 - mae: 11.2834\n",
      "Epoch 19/100\n",
      "2/2 [==============================] - 0s 5ms/step - loss: 18.2172 - mae: 18.2172\n",
      "Epoch 20/100\n",
      "2/2 [==============================] - 0s 4ms/step - loss: 14.9262 - mae: 14.9262\n",
      "Epoch 21/100\n",
      "2/2 [==============================] - 0s 11ms/step - loss: 10.8143 - mae: 10.8143\n",
      "Epoch 22/100\n",
      "2/2 [==============================] - 0s 4ms/step - loss: 8.5618 - mae: 8.5618\n",
      "Epoch 23/100\n",
      "2/2 [==============================] - 0s 3ms/step - loss: 9.7289 - mae: 9.7289\n",
      "Epoch 24/100\n",
      "2/2 [==============================] - 0s 6ms/step - loss: 10.9237 - mae: 10.9237\n",
      "Epoch 25/100\n",
      "2/2 [==============================] - 0s 4ms/step - loss: 9.1435 - mae: 9.1435\n",
      "Epoch 26/100\n",
      "2/2 [==============================] - 0s 5ms/step - loss: 13.1596 - mae: 13.1596\n",
      "Epoch 27/100\n",
      "2/2 [==============================] - 0s 5ms/step - loss: 10.6398 - mae: 10.6398\n",
      "Epoch 28/100\n",
      "2/2 [==============================] - 0s 8ms/step - loss: 12.8491 - mae: 12.8491\n",
      "Epoch 29/100\n",
      "2/2 [==============================] - 0s 3ms/step - loss: 9.4979 - mae: 9.4979\n",
      "Epoch 30/100\n",
      "2/2 [==============================] - 0s 4ms/step - loss: 16.3569 - mae: 16.3569\n",
      "Epoch 31/100\n",
      "2/2 [==============================] - 0s 5ms/step - loss: 23.6240 - mae: 23.6240\n",
      "Epoch 32/100\n",
      "2/2 [==============================] - 0s 3ms/step - loss: 7.6109 - mae: 7.6109\n",
      "Epoch 33/100\n",
      "2/2 [==============================] - 0s 6ms/step - loss: 9.3107 - mae: 9.3107\n",
      "Epoch 34/100\n",
      "2/2 [==============================] - 0s 4ms/step - loss: 13.7115 - mae: 13.7115\n",
      "Epoch 35/100\n",
      "2/2 [==============================] - 0s 4ms/step - loss: 11.1285 - mae: 11.1285\n",
      "Epoch 36/100\n",
      "2/2 [==============================] - 0s 5ms/step - loss: 13.3326 - mae: 13.3326\n",
      "Epoch 37/100\n",
      "2/2 [==============================] - 0s 7ms/step - loss: 9.4627 - mae: 9.4627\n",
      "Epoch 38/100\n",
      "2/2 [==============================] - 0s 9ms/step - loss: 10.1215 - mae: 10.1215\n",
      "Epoch 39/100\n",
      "2/2 [==============================] - 0s 6ms/step - loss: 10.1802 - mae: 10.1802\n",
      "Epoch 40/100\n",
      "2/2 [==============================] - 0s 4ms/step - loss: 10.9184 - mae: 10.9184\n",
      "Epoch 41/100\n",
      "2/2 [==============================] - 0s 7ms/step - loss: 7.9077 - mae: 7.9077\n",
      "Epoch 42/100\n",
      "2/2 [==============================] - 0s 3ms/step - loss: 10.0763 - mae: 10.0763\n",
      "Epoch 43/100\n",
      "2/2 [==============================] - 0s 4ms/step - loss: 8.6899 - mae: 8.6899\n",
      "Epoch 44/100\n",
      "2/2 [==============================] - 0s 4ms/step - loss: 12.1848 - mae: 12.1848\n",
      "Epoch 45/100\n",
      "2/2 [==============================] - 0s 5ms/step - loss: 13.8046 - mae: 13.8046\n",
      "Epoch 46/100\n",
      "2/2 [==============================] - 0s 5ms/step - loss: 8.4704 - mae: 8.4704\n",
      "Epoch 47/100\n",
      "2/2 [==============================] - 0s 8ms/step - loss: 9.1193 - mae: 9.1193\n",
      "Epoch 48/100\n",
      "2/2 [==============================] - 0s 3ms/step - loss: 10.6019 - mae: 10.6019\n",
      "Epoch 49/100\n",
      "2/2 [==============================] - 0s 8ms/step - loss: 7.7377 - mae: 7.7377\n",
      "Epoch 50/100\n",
      "2/2 [==============================] - 0s 5ms/step - loss: 9.5248 - mae: 9.5248\n",
      "Epoch 51/100\n",
      "2/2 [==============================] - 0s 4ms/step - loss: 9.1491 - mae: 9.1491\n",
      "Epoch 52/100\n",
      "2/2 [==============================] - 0s 3ms/step - loss: 16.3421 - mae: 16.3421\n",
      "Epoch 53/100\n",
      "2/2 [==============================] - 0s 5ms/step - loss: 14.1324 - mae: 14.1324\n",
      "Epoch 54/100\n",
      "2/2 [==============================] - 0s 7ms/step - loss: 21.1415 - mae: 21.1415\n",
      "Epoch 55/100\n",
      "2/2 [==============================] - 0s 9ms/step - loss: 16.3754 - mae: 16.3754\n",
      "Epoch 56/100\n",
      "2/2 [==============================] - 0s 4ms/step - loss: 9.9880 - mae: 9.9880\n",
      "Epoch 57/100\n",
      "2/2 [==============================] - 0s 5ms/step - loss: 9.9453 - mae: 9.9453\n",
      "Epoch 58/100\n",
      "2/2 [==============================] - 0s 8ms/step - loss: 9.2063 - mae: 9.2063\n",
      "Epoch 59/100\n",
      "2/2 [==============================] - 0s 6ms/step - loss: 8.4105 - mae: 8.4105\n",
      "Epoch 60/100\n",
      "2/2 [==============================] - 0s 3ms/step - loss: 9.4740 - mae: 9.4740\n",
      "Epoch 61/100\n",
      "2/2 [==============================] - 0s 4ms/step - loss: 11.4166 - mae: 11.4166\n",
      "Epoch 62/100\n",
      "2/2 [==============================] - 0s 5ms/step - loss: 11.6955 - mae: 11.6955\n",
      "Epoch 63/100\n",
      "2/2 [==============================] - 0s 3ms/step - loss: 7.0719 - mae: 7.0719\n",
      "Epoch 64/100\n",
      "2/2 [==============================] - 0s 5ms/step - loss: 16.9764 - mae: 16.9764\n",
      "Epoch 65/100\n",
      "2/2 [==============================] - 0s 5ms/step - loss: 12.4639 - mae: 12.4639\n",
      "Epoch 66/100\n",
      "2/2 [==============================] - 0s 5ms/step - loss: 13.0259 - mae: 13.0259\n",
      "Epoch 67/100\n",
      "2/2 [==============================] - 0s 6ms/step - loss: 8.0575 - mae: 8.0575\n",
      "Epoch 68/100\n",
      "2/2 [==============================] - 0s 8ms/step - loss: 10.1904 - mae: 10.1904\n",
      "Epoch 69/100\n",
      "2/2 [==============================] - 0s 5ms/step - loss: 12.3715 - mae: 12.3715\n",
      "Epoch 70/100\n",
      "2/2 [==============================] - 0s 5ms/step - loss: 9.0372 - mae: 9.0372\n",
      "Epoch 71/100\n",
      "2/2 [==============================] - 0s 4ms/step - loss: 10.0228 - mae: 10.0228\n",
      "Epoch 72/100\n",
      "2/2 [==============================] - 0s 9ms/step - loss: 10.0385 - mae: 10.0385\n",
      "Epoch 73/100\n",
      "2/2 [==============================] - 0s 5ms/step - loss: 12.5957 - mae: 12.5957\n",
      "Epoch 74/100\n",
      "2/2 [==============================] - 0s 5ms/step - loss: 10.3893 - mae: 10.3893\n",
      "Epoch 75/100\n",
      "2/2 [==============================] - 0s 6ms/step - loss: 9.7091 - mae: 9.7091\n",
      "Epoch 76/100\n",
      "2/2 [==============================] - 0s 9ms/step - loss: 11.2084 - mae: 11.2084\n",
      "Epoch 77/100\n",
      "2/2 [==============================] - 0s 6ms/step - loss: 8.3513 - mae: 8.3513\n",
      "Epoch 78/100\n",
      "2/2 [==============================] - 0s 3ms/step - loss: 9.1086 - mae: 9.1086\n",
      "Epoch 79/100\n",
      "2/2 [==============================] - 0s 3ms/step - loss: 19.5193 - mae: 19.5193\n",
      "Epoch 80/100\n",
      "2/2 [==============================] - 0s 3ms/step - loss: 14.8743 - mae: 14.8743\n",
      "Epoch 81/100\n",
      "2/2 [==============================] - 0s 6ms/step - loss: 9.0128 - mae: 9.0128\n",
      "Epoch 82/100\n",
      "2/2 [==============================] - 0s 3ms/step - loss: 13.0024 - mae: 13.0024\n",
      "Epoch 83/100\n",
      "2/2 [==============================] - 0s 5ms/step - loss: 7.9140 - mae: 7.9140\n",
      "Epoch 84/100\n",
      "2/2 [==============================] - 0s 5ms/step - loss: 7.6842 - mae: 7.6842\n",
      "Epoch 85/100\n",
      "2/2 [==============================] - 0s 4ms/step - loss: 10.0359 - mae: 10.0359\n",
      "Epoch 86/100\n",
      "2/2 [==============================] - 0s 4ms/step - loss: 9.2429 - mae: 9.2429\n",
      "Epoch 87/100\n",
      "2/2 [==============================] - 0s 4ms/step - loss: 12.0268 - mae: 12.0268\n",
      "Epoch 88/100\n"
     ]
    },
    {
     "name": "stdout",
     "output_type": "stream",
     "text": [
      "2/2 [==============================] - 0s 9ms/step - loss: 10.6447 - mae: 10.6447\n",
      "Epoch 89/100\n",
      "2/2 [==============================] - 0s 4ms/step - loss: 7.2602 - mae: 7.2602\n",
      "Epoch 90/100\n",
      "2/2 [==============================] - 0s 3ms/step - loss: 12.7860 - mae: 12.7860\n",
      "Epoch 91/100\n",
      "2/2 [==============================] - 0s 10ms/step - loss: 7.4673 - mae: 7.4673\n",
      "Epoch 92/100\n",
      "2/2 [==============================] - 0s 4ms/step - loss: 6.7465 - mae: 6.7465\n",
      "Epoch 93/100\n",
      "2/2 [==============================] - 0s 4ms/step - loss: 11.9362 - mae: 11.9362\n",
      "Epoch 94/100\n",
      "2/2 [==============================] - 0s 4ms/step - loss: 8.8692 - mae: 8.8692\n",
      "Epoch 95/100\n",
      "2/2 [==============================] - 0s 3ms/step - loss: 7.7097 - mae: 7.7097\n",
      "Epoch 96/100\n",
      "2/2 [==============================] - 0s 3ms/step - loss: 6.7426 - mae: 6.7426\n",
      "Epoch 97/100\n",
      "2/2 [==============================] - 0s 5ms/step - loss: 8.6192 - mae: 8.6192\n",
      "Epoch 98/100\n",
      "2/2 [==============================] - 0s 6ms/step - loss: 9.3901 - mae: 9.3901\n",
      "Epoch 99/100\n",
      "2/2 [==============================] - 0s 3ms/step - loss: 9.1252 - mae: 9.1252\n",
      "Epoch 100/100\n",
      "2/2 [==============================] - 0s 5ms/step - loss: 10.4838 - mae: 10.4838\n"
     ]
    },
    {
     "data": {
      "text/plain": [
       "<keras.callbacks.History at 0x7f1fb2c89610>"
      ]
     },
     "execution_count": 22,
     "metadata": {},
     "output_type": "execute_result"
    }
   ],
   "source": [
    "model.fit(X_train, y_train, epochs=100, verbose=1)"
   ]
  },
  {
   "cell_type": "code",
   "execution_count": 23,
   "id": "898d95d4",
   "metadata": {},
   "outputs": [
    {
     "data": {
      "image/png": "[encoded data removed]",
      "text/plain": [
       "<IPython.core.display.Image object>"
      ]
     },
     "execution_count": 23,
     "metadata": {},
     "output_type": "execute_result"
    }
   ],
   "source": [
    "from tensorflow.keras.utils import plot_model\n",
    "\n",
    "plot_model(model=model, show_shapes=True)"
   ]
  },
  {
   "cell_type": "code",
   "execution_count": null,
   "id": "39b2b78c",
   "metadata": {},
   "outputs": [],
   "source": []
  }
 ],
 "metadata": {
  "kernelspec": {
   "display_name": "Python 3 (ipykernel)",
   "language": "python",
   "name": "python3"
  },
  "language_info": {
   "codemirror_mode": {
    "name": "ipython",
    "version": 3
   },
   "file_extension": ".py",
   "mimetype": "text/x-python",
   "name": "python",
   "nbconvert_exporter": "python",
   "pygments_lexer": "ipython3",
   "version": "3.8.8"
  }
 },
 "nbformat": 4,
 "nbformat_minor": 5
}
